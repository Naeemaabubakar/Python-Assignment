{
 "cells": [
  {
   "cell_type": "markdown",
   "metadata": {},
   "source": [
    "# EXERCISES MODULE 3\n"
   ]
  },
  {
   "cell_type": "code",
   "execution_count": null,
   "metadata": {},
   "outputs": [
    {
     "name": "stdout",
     "output_type": "stream",
     "text": [
      "35\n"
     ]
    }
   ],
   "source": [
    "# QUESTION 1\n",
    "Age = 35\n",
    "print(Age)\n"
   ]
  },
  {
   "cell_type": "code",
   "execution_count": null,
   "metadata": {},
   "outputs": [
    {
     "name": "stdout",
     "output_type": "stream",
     "text": [
      "5.8\n"
     ]
    }
   ],
   "source": [
    "# QUESTION 2\n",
    "Height =5.8\n",
    "print(Height)"
   ]
  },
  {
   "cell_type": "code",
   "execution_count": null,
   "metadata": {},
   "outputs": [
    {
     "name": "stdout",
     "output_type": "stream",
     "text": [
      "(5+5j)\n"
     ]
    }
   ],
   "source": [
    "# QUESTION 3\n",
    "Complex_num = 5+5j\n",
    "print(Complex_num)"
   ]
  },
  {
   "cell_type": "code",
   "execution_count": null,
   "metadata": {},
   "outputs": [],
   "source": [
    "# QUESTION 4\n",
    "base = input(\"Enter base: 20\")\n",
    "height = input(\"Enter height:10\")\n",
    "Area = 0.5 * base * height\n",
    "print(f\"the area of the the triangle is {Area} \")"
   ]
  },
  {
   "cell_type": "code",
   "execution_count": null,
   "metadata": {},
   "outputs": [],
   "source": [
    "# QUESTION 5\n",
    "side_a = input(\"Enter side a: 5\")\n",
    "side_b = input(\"Enter side b: 4\")\n",
    "side_c = input(\"Enter side c: 3\")\n",
    "\n",
    "Triangle_perimeter = side_a * side_b * side_c\n",
    "print(f\"the triangle perimeter is {Triangle_perimeter} \")"
   ]
  },
  {
   "cell_type": "code",
   "execution_count": null,
   "metadata": {},
   "outputs": [],
   "source": [
    "#QUESTION 6\n",
    "Rec_length = input(\"Enter rec_length\")\n",
    "Rec_width = input(\"Enter rec_width\")\n",
    "Rectangle_area = Rec_length * Rec_width\n",
    "print(f\"the rectangle area is {Rectangle_area} \")"
   ]
  },
  {
   "cell_type": "code",
   "execution_count": null,
   "metadata": {},
   "outputs": [],
   "source": [
    "#QUESTION 7\n",
    "Radius = input(\"Enter radius\")\n",
    "pi = 3.14\n",
    "Circle_area = pi * Radius**2\n",
    "circle_circumference = 2 * pi * Radius\n",
    "print(f\"the circle area is {Circle_area} \")\n",
    "print(f\"the circle circumference is {circle_circumference} \")\n"
   ]
  },
  {
   "cell_type": "code",
   "execution_count": 3,
   "metadata": {},
   "outputs": [
    {
     "name": "stdout",
     "output_type": "stream",
     "text": [
      "True\n"
     ]
    }
   ],
   "source": [
    "# QUESTION 13\n",
    "check = 'on' in 'python' and 'on' in 'dragon'\n",
    "print(check)  \n"
   ]
  },
  {
   "cell_type": "code",
   "execution_count": 4,
   "metadata": {},
   "outputs": [
    {
     "name": "stdout",
     "output_type": "stream",
     "text": [
      "True\n"
     ]
    }
   ],
   "source": [
    "# QUESTION 14\n",
    "check_sentence = \"I hope this course is not full of jargon.\"\n",
    "print(\"jargon\" in check_sentence) \n"
   ]
  },
  {
   "cell_type": "code",
   "execution_count": 1,
   "metadata": {},
   "outputs": [
    {
     "name": "stdout",
     "output_type": "stream",
     "text": [
      "False\n"
     ]
    }
   ],
   "source": [
    "# QUESTION 15\n",
    "check_on = \"on\" not in \"dragon\" and \"on\" not in \"python\"\n",
    "print(check_on) "
   ]
  },
  {
   "cell_type": "code",
   "execution_count": 2,
   "metadata": {},
   "outputs": [
    {
     "name": "stdout",
     "output_type": "stream",
     "text": [
      "6.0\n"
     ]
    }
   ],
   "source": [
    "# QUESTION 16\n",
    "len_python= len(\"python\")\n",
    "len_float = float(len_python)\n",
    "length_str = str(len_float)\n",
    "\n",
    "print(length_str)"
   ]
  },
  {
   "cell_type": "code",
   "execution_count": null,
   "metadata": {},
   "outputs": [],
   "source": [
    "# QUESTION 17\n",
    "even_num = int(input(\"Enter a number: \"))\n",
    "is_even = even_num % 2 == 0\n",
    "print(f\"The number is even: {is_even}\")"
   ]
  },
  {
   "cell_type": "code",
   "execution_count": 1,
   "metadata": {},
   "outputs": [
    {
     "name": "stdout",
     "output_type": "stream",
     "text": [
      "True\n"
     ]
    }
   ],
   "source": [
    "# QUESTION 18\n",
    "floor_division = 7 // 3 == int(2.7)\n",
    "print(floor_division) "
   ]
  },
  {
   "cell_type": "code",
   "execution_count": 2,
   "metadata": {},
   "outputs": [
    {
     "name": "stdout",
     "output_type": "stream",
     "text": [
      "False\n"
     ]
    }
   ],
   "source": [
    "# QUESTION 19\n",
    "check_type = type(\"10\") == type(10)\n",
    "print(check_type)"
   ]
  },
  {
   "cell_type": "code",
   "execution_count": 3,
   "metadata": {},
   "outputs": [
    {
     "name": "stdout",
     "output_type": "stream",
     "text": [
      "False\n"
     ]
    }
   ],
   "source": [
    "# QUESTION 20\n",
    "check_num = int(9.8) == (10)\n",
    "print(check_num)"
   ]
  },
  {
   "cell_type": "code",
   "execution_count": null,
   "metadata": {},
   "outputs": [],
   "source": [
    "# QUESTION 21\n",
    "\n",
    "hours = float(input(\"Enter hours: \"))\n",
    "rate = float(input(\"Enter rate per hour: \"))\n",
    "pay = hours * rate\n",
    "print(f\"Your weekly earning is {pay}\")"
   ]
  },
  {
   "cell_type": "code",
   "execution_count": null,
   "metadata": {},
   "outputs": [],
   "source": [
    "# QUESTION 22\n",
    "years = int(input(\"Enter number of years you have lived: \"))\n",
    "seconds = years * 365 * 24 * 60 * 60\n",
    "print(f\"You have lived for {seconds} seconds.\")"
   ]
  },
  {
   "cell_type": "code",
   "execution_count": 5,
   "metadata": {},
   "outputs": [
    {
     "name": "stdout",
     "output_type": "stream",
     "text": [
      "1 1 1 1 1\n",
      "2 1 2 4 8\n",
      "3 1 3 9 27\n",
      "4 1 4 16 64\n",
      "5 1 5 25 125\n"
     ]
    }
   ],
   "source": [
    "print(\"1 1 1 1 1\")\n",
    "print(\"2 1 2 4 8\")\n",
    "print(\"3 1 3 9 27\")\n",
    "print(\"4 1 4 16 64\")\n",
    "print(\"5 1 5 25 125\")\n"
   ]
  }
 ],
 "metadata": {
  "kernelspec": {
   "display_name": "base",
   "language": "python",
   "name": "python3"
  },
  "language_info": {
   "codemirror_mode": {
    "name": "ipython",
    "version": 3
   },
   "file_extension": ".py",
   "mimetype": "text/x-python",
   "name": "python",
   "nbconvert_exporter": "python",
   "pygments_lexer": "ipython3",
   "version": "3.11.5"
  }
 },
 "nbformat": 4,
 "nbformat_minor": 2
}
