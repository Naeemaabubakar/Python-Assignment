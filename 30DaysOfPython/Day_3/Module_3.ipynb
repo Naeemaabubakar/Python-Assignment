{
 "cells": [
  {
   "cell_type": "markdown",
   "metadata": {},
   "source": [
    "# EXERCISES MODULE 3\n"
   ]
  },
  {
   "cell_type": "code",
   "execution_count": null,
   "metadata": {},
   "outputs": [
    {
     "name": "stdout",
     "output_type": "stream",
     "text": [
      "35\n"
     ]
    }
   ],
   "source": [
    "# QUESTION 1\n",
    "Age = 35\n",
    "print(Age)\n"
   ]
  },
  {
   "cell_type": "code",
   "execution_count": null,
   "metadata": {},
   "outputs": [
    {
     "name": "stdout",
     "output_type": "stream",
     "text": [
      "5.8\n"
     ]
    }
   ],
   "source": [
    "# QUESTION 2\n",
    "Height =5.8\n",
    "print(Height)"
   ]
  },
  {
   "cell_type": "code",
   "execution_count": null,
   "metadata": {},
   "outputs": [
    {
     "name": "stdout",
     "output_type": "stream",
     "text": [
      "(5+5j)\n"
     ]
    }
   ],
   "source": [
    "# QUESTION 3\n",
    "Complex_num = 5+5j\n",
    "print(Complex_num)"
   ]
  },
  {
   "cell_type": "code",
   "execution_count": null,
   "metadata": {},
   "outputs": [],
   "source": [
    "# QUESTION 4\n",
    "base = input(\"Enter base: 20\")\n",
    "height = input(\"Enter height:10\")\n",
    "Area = 0.5 * base * height\n",
    "print(f\"the area of the the triangle is {Area} \")"
   ]
  },
  {
   "cell_type": "code",
   "execution_count": null,
   "metadata": {},
   "outputs": [],
   "source": [
    "# QUESTION 5\n",
    "side_a = input(\"Enter side a: 5\")\n",
    "side_b = input(\"Enter side b: 4\")\n",
    "side_c = input(\"Enter side c: 3\")\n",
    "\n",
    "Triangle_perimeter = side_a * side_b * side_c\n",
    "print(f\"the triangle perimeter is {Triangle_perimeter} \")"
   ]
  },
  {
   "cell_type": "code",
   "execution_count": null,
   "metadata": {},
   "outputs": [],
   "source": [
    "#QUESTION 6\n",
    "Rec_length = input(\"Enter rec_length\")\n",
    "Rec_width = input(\"Enter rec_width\")\n",
    "Rectangle_area = Rec_length * Rec_width\n",
    "print(f\"the rectangle area is {Rectangle_area} \")"
   ]
  },
  {
   "cell_type": "code",
   "execution_count": null,
   "metadata": {},
   "outputs": [],
   "source": [
    "#QUESTION 7\n",
    "Radius = input(\"Enter radius\")\n",
    "pi = 3.14\n",
    "Circle_area = pi * Radius**2\n",
    "circle_circumference = 2 * pi * Radius\n",
    "print(f\"the circle area is {Circle_area} \")\n",
    "print(f\"the circle circumference is {circle_circumference} \")\n"
   ]
  },
  {
   "cell_type": "code",
   "execution_count": 2,
   "metadata": {},
   "outputs": [
    {
     "name": "stdout",
     "output_type": "stream",
     "text": [
      "6\n",
      "6\n",
      "True\n"
     ]
    }
   ],
   "source": [
    "# QUESTION 12\n",
    "python_length = len('python')\n",
    "dragon_length = len('dragon')\n",
    "print(python_length)\n",
    "print(dragon_length)\n",
    "print(python_length == dragon_length)\n"
   ]
  },
  {
   "cell_type": "code",
   "execution_count": 3,
   "metadata": {},
   "outputs": [
    {
     "name": "stdout",
     "output_type": "stream",
     "text": [
      "True\n"
     ]
    }
   ],
   "source": [
    "# QUESTION 13\n",
    "check = 'on' in 'python' and 'on' in 'dragon'\n",
    "print(check)  \n"
   ]
  },
  {
   "cell_type": "code",
   "execution_count": 4,
   "metadata": {},
   "outputs": [
    {
     "name": "stdout",
     "output_type": "stream",
     "text": [
      "True\n"
     ]
    }
   ],
   "source": [
    "# QUESTION 14\n",
    "check_sentence = \"I hope this course is not full of jargon.\"\n",
    "print(\"jargon\" in check_sentence) \n"
   ]
  },
  {
   "cell_type": "code",
   "execution_count": 5,
   "metadata": {},
   "outputs": [
    {
     "name": "stdout",
     "output_type": "stream",
     "text": [
      "True\n"
     ]
    }
   ],
   "source": [
    "# QUESTION 15\n",
    "company = \"Coding For All\"\n",
    "print(company.startswith('Coding')) "
   ]
  },
  {
   "cell_type": "code",
   "execution_count": 6,
   "metadata": {},
   "outputs": [
    {
     "name": "stdout",
     "output_type": "stream",
     "text": [
      "False\n"
     ]
    }
   ],
   "source": [
    "# QUESTION 16\n",
    "company = \"Coding For All\"\n",
    "print(company.endswith('coding'))  \n"
   ]
  },
  {
   "cell_type": "code",
   "execution_count": 7,
   "metadata": {},
   "outputs": [
    {
     "name": "stdout",
     "output_type": "stream",
     "text": [
      "Coding For All\n"
     ]
    }
   ],
   "source": [
    "# QUESTION 17\n",
    "remove_string_with_spaces = '   Coding For All      '\n",
    "print(remove_string_with_spaces.strip()) "
   ]
  },
  {
   "cell_type": "code",
   "execution_count": 8,
   "metadata": {},
   "outputs": [
    {
     "name": "stdout",
     "output_type": "stream",
     "text": [
      "False\n",
      "True\n"
     ]
    }
   ],
   "source": [
    "# QUESTION 18\n",
    "variable1 = '30DaysOfPython'\n",
    "variable2 = 'thirty_days_of_python'\n",
    "\n",
    "print(variable1.isidentifier())  \n",
    "print(variable2.isidentifier())  "
   ]
  },
  {
   "cell_type": "code",
   "execution_count": null,
   "metadata": {},
   "outputs": [],
   "source": [
    "# QUESTION 19\n",
    "libraries = ['Django', 'Flask', 'Bottle', 'Pyramid', 'Falcon']\n",
    "joined_libraries = ' # '.join(libraries)\n",
    "print(joined_libraries)  \n"
   ]
  }
 ],
 "metadata": {
  "kernelspec": {
   "display_name": "base",
   "language": "python",
   "name": "python3"
  },
  "language_info": {
   "codemirror_mode": {
    "name": "ipython",
    "version": 3
   },
   "file_extension": ".py",
   "mimetype": "text/x-python",
   "name": "python",
   "nbconvert_exporter": "python",
   "pygments_lexer": "ipython3",
   "version": "3.11.5"
  }
 },
 "nbformat": 4,
 "nbformat_minor": 2
}
