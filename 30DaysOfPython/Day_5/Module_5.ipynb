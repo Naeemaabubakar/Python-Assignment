{
 "cells": [
  {
   "cell_type": "markdown",
   "metadata": {},
   "source": [
    "# EXERCISES MODULE 5\n"
   ]
  },
  {
   "cell_type": "markdown",
   "metadata": {},
   "source": [
    "# LIST EXERCISES \n"
   ]
  },
  {
   "cell_type": "code",
   "execution_count": 27,
   "metadata": {},
   "outputs": [
    {
     "name": "stdout",
     "output_type": "stream",
     "text": [
      "[]\n"
     ]
    }
   ],
   "source": [
    "# QUESTION 1\n",
    "empty_list = []\n",
    "print(empty_list)"
   ]
  },
  {
   "cell_type": "code",
   "execution_count": 28,
   "metadata": {},
   "outputs": [
    {
     "name": "stdout",
     "output_type": "stream",
     "text": [
      "['table', 'chair', 'sofa', 'lamp', 'rug', 'shelf', 'Tv']\n"
     ]
    }
   ],
   "source": [
    "#QUESTION 2\n",
    "house_items = ['table', 'chair', 'sofa', 'lamp', 'rug', 'shelf','Tv' ]\n",
    "print(house_items)"
   ]
  },
  {
   "cell_type": "code",
   "execution_count": 29,
   "metadata": {},
   "outputs": [
    {
     "name": "stdout",
     "output_type": "stream",
     "text": [
      "7\n"
     ]
    }
   ],
   "source": [
    "# QUESTION 3\n",
    "print(len(house_items))\n"
   ]
  },
  {
   "cell_type": "code",
   "execution_count": 30,
   "metadata": {},
   "outputs": [
    {
     "name": "stdout",
     "output_type": "stream",
     "text": [
      "First item: table\n",
      "Middle item: lamp\n",
      "Last item: Tv\n"
     ]
    }
   ],
   "source": [
    "# QUESTION 4\n",
    "first_item = house_items[0]\n",
    "middle_item = house_items[3]\n",
    "last_item = house_items[-1]\n",
    "print(\"First item:\", first_item)\n",
    "print(\"Middle item:\", middle_item)\n",
    "print(\"Last item:\", last_item)\n"
   ]
  },
  {
   "cell_type": "code",
   "execution_count": 32,
   "metadata": {},
   "outputs": [
    {
     "name": "stdout",
     "output_type": "stream",
     "text": [
      "['Naima', 35, 5.6, 'Married', 'Kano, Nigeria']\n"
     ]
    }
   ],
   "source": [
    "# QUESTION 5\n",
    "mixed_data_types = ['Naima', 35, 5.6, 'Married', 'Kano, Nigeria']\n",
    "print(mixed_data_types)"
   ]
  },
  {
   "cell_type": "code",
   "execution_count": 33,
   "metadata": {},
   "outputs": [
    {
     "name": "stdout",
     "output_type": "stream",
     "text": [
      "['Facebook', 'Google', 'Microsoft', 'Apple', 'IBM', 'Oracle', 'Amazon']\n"
     ]
    }
   ],
   "source": [
    "# QUESTION 6\n",
    "it_companies = ['Facebook', 'Google', 'Microsoft', 'Apple', 'IBM', 'Oracle', 'Amazon']\n",
    "print(it_companies)"
   ]
  },
  {
   "cell_type": "code",
   "execution_count": 34,
   "metadata": {},
   "outputs": [
    {
     "name": "stdout",
     "output_type": "stream",
     "text": [
      "7\n"
     ]
    }
   ],
   "source": [
    "# QUESTION 7\n",
    "print( len(it_companies))"
   ]
  },
  {
   "cell_type": "code",
   "execution_count": 36,
   "metadata": {},
   "outputs": [
    {
     "name": "stdout",
     "output_type": "stream",
     "text": [
      "First company: Facebook\n",
      "Middle company: Apple\n",
      "Last company: Amazon\n"
     ]
    }
   ],
   "source": [
    "# QUESTION 8\n",
    "first_company = it_companies[0]\n",
    "middle_company = it_companies[3]\n",
    "last_company = it_companies[-1]\n",
    "print(\"First company:\", first_company)\n",
    "print(\"Middle company:\", middle_company)\n",
    "print(\"Last company:\", last_company)"
   ]
  },
  {
   "cell_type": "code",
   "execution_count": 38,
   "metadata": {},
   "outputs": [
    {
     "name": "stdout",
     "output_type": "stream",
     "text": [
      "['Facebook', 'Googles', 'Microsoft', 'Apple', 'IBM', 'Oracle', 'Amazon']\n"
     ]
    }
   ],
   "source": [
    "# QUESTION 9\n",
    "it_companies = ['Facebook', 'Googles', 'Microsoft', 'Apple', 'IBM', 'Oracle', 'Amazon']\n",
    "print(it_companies)"
   ]
  },
  {
   "cell_type": "code",
   "execution_count": 39,
   "metadata": {},
   "outputs": [
    {
     "name": "stdout",
     "output_type": "stream",
     "text": [
      "['Facebook', 'Googles', 'Microsoft', 'Apple', 'IBM', 'Oracle', 'Amazon', 'Twitter']\n"
     ]
    }
   ],
   "source": [
    "# QUESTION 10\n",
    "it_companies.append('Twitter')\n",
    "print( it_companies)"
   ]
  },
  {
   "cell_type": "code",
   "execution_count": 40,
   "metadata": {},
   "outputs": [
    {
     "name": "stdout",
     "output_type": "stream",
     "text": [
      "['Facebook', 'Googles', 'Microsoft', 'Apple', 'Spotify', 'IBM', 'Oracle', 'Amazon', 'Twitter']\n"
     ]
    }
   ],
   "source": [
    "# QUESTION 11\n",
    "it_companies.insert(4, 'Spotify')\n",
    "print(it_companies)\n"
   ]
  },
  {
   "cell_type": "code",
   "execution_count": 45,
   "metadata": {},
   "outputs": [
    {
     "name": "stdout",
     "output_type": "stream",
     "text": [
      "['facebook', 'Googles', 'Microsoft', 'APPLE', 'Spotify', 'IBM', 'Oracle', 'Amazon', 'Twitter']\n"
     ]
    }
   ],
   "source": [
    "#QUESTION 12\n",
    "it_companies[3] = it_companies[3].upper()\n",
    "print(it_companies)"
   ]
  },
  {
   "cell_type": "code",
   "execution_count": 47,
   "metadata": {},
   "outputs": [
    {
     "name": "stdout",
     "output_type": "stream",
     "text": [
      "facebook#; Googles#; Microsoft#; APPLE#; Spotify#; IBM#; Oracle#; Amazon#; Twitter\n"
     ]
    }
   ],
   "source": [
    "#QUESTION 13\n",
    "joined_companies = '#; '.join(it_companies)\n",
    "print(joined_companies)"
   ]
  },
  {
   "cell_type": "code",
   "execution_count": 48,
   "metadata": {},
   "outputs": [
    {
     "name": "stdout",
     "output_type": "stream",
     "text": [
      "Is Twitter in the list? True\n"
     ]
    }
   ],
   "source": [
    "#QUESTION 14\n",
    "company_to_check = 'Twitter'\n",
    "print(f\"Is {company_to_check} in the list?\", company_to_check in it_companies)"
   ]
  },
  {
   "cell_type": "code",
   "execution_count": 50,
   "metadata": {},
   "outputs": [
    {
     "name": "stdout",
     "output_type": "stream",
     "text": [
      "Sorted list: ['APPLE', 'Amazon', 'Googles', 'IBM', 'Microsoft', 'Oracle', 'Spotify', 'Twitter', 'facebook']\n"
     ]
    }
   ],
   "source": [
    "#QUESTION 15\n",
    "it_companies.sort()\n",
    "print(\"Sorted list:\", it_companies)"
   ]
  },
  {
   "cell_type": "code",
   "execution_count": 51,
   "metadata": {},
   "outputs": [
    {
     "name": "stdout",
     "output_type": "stream",
     "text": [
      "Reversed list: ['facebook', 'Twitter', 'Spotify', 'Oracle', 'Microsoft', 'IBM', 'Googles', 'Amazon', 'APPLE']\n"
     ]
    }
   ],
   "source": [
    "# QUESTION 16\n",
    "it_companies.reverse()\n",
    "print(\"Reversed list:\", it_companies)"
   ]
  },
  {
   "cell_type": "code",
   "execution_count": 52,
   "metadata": {},
   "outputs": [
    {
     "name": "stdout",
     "output_type": "stream",
     "text": [
      "First 3 companies: ['facebook', 'Twitter', 'Spotify']\n"
     ]
    }
   ],
   "source": [
    "# QUESTION 17\n",
    "first_3 = it_companies[:3]\n",
    "print(\"First 3 companies:\", first_3)"
   ]
  },
  {
   "cell_type": "code",
   "execution_count": 53,
   "metadata": {},
   "outputs": [
    {
     "name": "stdout",
     "output_type": "stream",
     "text": [
      "Last 3 companies: ['Googles', 'Amazon', 'APPLE']\n"
     ]
    }
   ],
   "source": [
    "#QUESTION 18\n",
    "last_3 = it_companies[-3:]\n",
    "print(\"Last 3 companies:\", last_3)"
   ]
  },
  {
   "cell_type": "code",
   "execution_count": 55,
   "metadata": {},
   "outputs": [
    {
     "name": "stdout",
     "output_type": "stream",
     "text": [
      "the middle company is: Microsoft\n"
     ]
    }
   ],
   "source": [
    "# QUESTION 19\n",
    "Mid_comp = it_companies[4]\n",
    "print(\"the middle company is:\", Mid_comp)"
   ]
  },
  {
   "cell_type": "code",
   "execution_count": 56,
   "metadata": {},
   "outputs": [
    {
     "name": "stdout",
     "output_type": "stream",
     "text": [
      "['Twitter', 'Spotify', 'Oracle', 'Microsoft', 'IBM', 'Googles', 'Amazon', 'APPLE']\n"
     ]
    }
   ],
   "source": [
    "#QUESTION 20\n",
    "it_companies.pop(0)\n",
    "print( it_companies)"
   ]
  },
  {
   "cell_type": "code",
   "execution_count": null,
   "metadata": {},
   "outputs": [
    {
     "name": "stdout",
     "output_type": "stream",
     "text": [
      "['Twitter', 'Spotify', 'Oracle', 'IBM', 'Googles', 'Amazon', 'APPLE']\n"
     ]
    }
   ],
   "source": [
    "# QUESTION 21\n",
    "it_companies.pop(3)\n",
    "print(it_companies)"
   ]
  },
  {
   "cell_type": "code",
   "execution_count": 58,
   "metadata": {},
   "outputs": [
    {
     "name": "stdout",
     "output_type": "stream",
     "text": [
      "['Twitter', 'Spotify', 'Oracle', 'IBM', 'Googles', 'Amazon']\n"
     ]
    }
   ],
   "source": [
    "#QUESTION 22\n",
    "it_companies.pop(-1)\n",
    "print( it_companies)"
   ]
  },
  {
   "cell_type": "code",
   "execution_count": 59,
   "metadata": {},
   "outputs": [
    {
     "name": "stdout",
     "output_type": "stream",
     "text": [
      "[]\n"
     ]
    }
   ],
   "source": [
    "# QUESTION 23\n",
    "it_companies.clear()\n",
    "print( it_companies)"
   ]
  },
  {
   "cell_type": "code",
   "execution_count": 60,
   "metadata": {},
   "outputs": [],
   "source": [
    "#QUESTION 24\n",
    "del it_companies"
   ]
  },
  {
   "cell_type": "code",
   "execution_count": 61,
   "metadata": {},
   "outputs": [
    {
     "name": "stdout",
     "output_type": "stream",
     "text": [
      "['HTML', 'CSS', 'JS', 'React', 'Redux', 'Node', 'Express', 'MongoDB']\n"
     ]
    }
   ],
   "source": [
    "#QUESTION 25\n",
    "front_end = ['HTML', 'CSS', 'JS', 'React', 'Redux']\n",
    "back_end = ['Node', 'Express', 'MongoDB']\n",
    "full_stack = front_end + back_end\n",
    "print( full_stack)\n"
   ]
  },
  {
   "cell_type": "code",
   "execution_count": 63,
   "metadata": {},
   "outputs": [
    {
     "name": "stdout",
     "output_type": "stream",
     "text": [
      "['HTML', 'CSS', 'JS', 'React', 'Redux', 'Python', 'SQL', 'Node', 'Express', 'MongoDB']\n"
     ]
    }
   ],
   "source": [
    "# QUESTION 26\n",
    "\n",
    "full_stack.insert(5,'Python')\n",
    "full_stack.insert(6, 'SQL')\n",
    "print(full_stack)"
   ]
  },
  {
   "cell_type": "markdown",
   "metadata": {},
   "source": [
    "### LEVEL 2"
   ]
  },
  {
   "cell_type": "code",
   "execution_count": 65,
   "metadata": {},
   "outputs": [
    {
     "name": "stdout",
     "output_type": "stream",
     "text": [
      "[19, 22, 19, 24, 20, 25, 26, 24, 25, 24]\n"
     ]
    }
   ],
   "source": [
    "# QUESTION 1\n",
    "ages = [19, 22, 19, 24, 20, 25, 26, 24, 25, 24]\n",
    "print(ages)"
   ]
  },
  {
   "cell_type": "code",
   "execution_count": 66,
   "metadata": {},
   "outputs": [
    {
     "name": "stdout",
     "output_type": "stream",
     "text": [
      "[19, 19, 20, 22, 24, 24, 24, 25, 25, 26]\n"
     ]
    }
   ],
   "source": [
    "\n",
    "ages.sort()\n",
    "print( ages)"
   ]
  },
  {
   "cell_type": "code",
   "execution_count": 67,
   "metadata": {},
   "outputs": [
    {
     "name": "stdout",
     "output_type": "stream",
     "text": [
      "Min age: 19\n",
      "Max age: 26\n"
     ]
    }
   ],
   "source": [
    "\n",
    "min_age = min(ages)\n",
    "max_age = max(ages)\n",
    "print(\"Min age:\", min_age)\n",
    "print(\"Max age:\", max_age)"
   ]
  },
  {
   "cell_type": "code",
   "execution_count": 68,
   "metadata": {},
   "outputs": [
    {
     "name": "stdout",
     "output_type": "stream",
     "text": [
      "[19, 19, 20, 22, 24, 24, 24, 25, 25, 26, 19, 26]\n"
     ]
    }
   ],
   "source": [
    "\n",
    "ages.append(min_age)\n",
    "ages.append(max_age)\n",
    "print( ages)"
   ]
  },
  {
   "cell_type": "code",
   "execution_count": 72,
   "metadata": {},
   "outputs": [
    {
     "name": "stdout",
     "output_type": "stream",
     "text": [
      "24\n"
     ]
    }
   ],
   "source": [
    "med_age = (ages[5])\n",
    "print(med_age)\n",
    "\n",
    "\n"
   ]
  },
  {
   "cell_type": "code",
   "execution_count": 71,
   "metadata": {},
   "outputs": [
    {
     "name": "stdout",
     "output_type": "stream",
     "text": [
      "22.75\n"
     ]
    }
   ],
   "source": [
    "\n",
    "# Find the average age\n",
    "average_age = sum(ages) / len(ages)\n",
    "print(average_age)"
   ]
  },
  {
   "cell_type": "code",
   "execution_count": 73,
   "metadata": {},
   "outputs": [
    {
     "name": "stdout",
     "output_type": "stream",
     "text": [
      "7\n"
     ]
    }
   ],
   "source": [
    "age_range = max_age - min_age\n",
    "print( age_range)"
   ]
  },
  {
   "cell_type": "code",
   "execution_count": 74,
   "metadata": {},
   "outputs": [
    {
     "name": "stdout",
     "output_type": "stream",
     "text": [
      "Difference between min and average: 3.75\n",
      "Difference between max and average: 3.25\n"
     ]
    }
   ],
   "source": [
    "min_diff = abs(min_age - average_age)\n",
    "max_diff = abs(max_age - average_age)\n",
    "print(\"Difference between min and average:\", min_diff)\n",
    "print(\"Difference between max and average:\", max_diff)"
   ]
  },
  {
   "cell_type": "code",
   "execution_count": 77,
   "metadata": {},
   "outputs": [],
   "source": [
    "\n",
    "countries = [\n",
    "    'Afghanistan', 'Albania', 'Algeria', 'Andorra', 'Angola', 'Antigua and Barbuda', 'Argentina', \n",
    "    'Armenia', 'Australia', 'Austria', 'Azerbaijan', 'Bahamas', 'Bahrain', 'Bangladesh', \n",
    "    'Barbados', 'Belarus', 'Belgium', 'Belize', 'Benin', 'Bhutan', 'Bolivia', \n",
    "    'Bosnia and Herzegovina', 'Botswana', 'Brazil', 'Brunei', 'Bulgaria', 'Burkina Faso', 'Burundi', \n",
    "    'Cambodia', 'Cameroon', 'Canada', 'Cape Verde', 'Central African Republic', 'Chad', 'Chile', \n",
    "    'China', 'Colombi', 'Comoros', 'Congo (Brazzaville)', 'Congo', 'Costa Rica', \"Cote d'Ivoire\", \n",
    "    'Croatia', 'Cuba', 'Cyprus', 'Czech Republic', 'Denmark', 'Djibouti', 'Dominica', \n",
    "    'Dominican Republic', 'East Timor (Timor Timur)', 'Ecuador', 'Egypt', 'El Salvador', \n",
    "    'Equatorial Guinea', 'Eritrea', 'Estonia', 'Ethiopia', 'Fiji', 'Finland', 'France', 'Gabon', \n",
    "    'Gambia, The', 'Georgia', 'Germany', 'Ghana', 'Greece', 'Grenada', 'Guatemala', 'Guinea', \n",
    "    'Guinea-Bissau', 'Guyana', 'Haiti', 'Honduras', 'Hungary', 'Iceland', 'India', 'Indonesia', \n",
    "    'Iran', 'Iraq', 'Ireland', 'Israel', 'Italy', 'Jamaica', 'Japan', 'Jordan', 'Kazakhstan', \n",
    "    'Kenya', 'Kiribati', 'Korea, North', 'Korea, South', 'Kuwait', 'Kyrgyzstan', 'Laos', 'Latvia', \n",
    "    'Lebanon', 'Lesotho', 'Liberia', 'Libya', 'Liechtenstein', 'Lithuania', 'Luxembourg', \n",
    "    'Macedonia', 'Madagascar', 'Malawi', 'Malaysia', 'Maldives', 'Mali', 'Malta', \n",
    "    'Marshall Islands', 'Mauritania', 'Mauritius', 'Mexico', 'Micronesia', 'Moldova', 'Monaco', \n",
    "    'Mongolia', 'Morocco', 'Mozambique', 'Myanmar', 'Namibia', 'Nauru', 'Nepal', 'Netherlands', \n",
    "    'New Zealand', 'Nicaragua', 'Niger', 'Nigeria', 'Norway', 'Oman', 'Pakistan', 'Palau', \n",
    "    'Panama', 'Papua New Guinea', 'Paraguay', 'Peru', 'Philippines', 'Poland', 'Portugal', 'Qatar', \n",
    "    'Romania', 'Russia', 'Rwanda', 'Saint Kitts and Nevis', 'Saint Lucia', 'Saint Vincent', \n",
    "    'Samoa', 'San Marino', 'Sao Tome and Principe', 'Saudi Arabia', 'Senegal', \n",
    "    'Serbia and Montenegro', 'Seychelles', 'Sierra Leone', 'Singapore', 'Slovakia', 'Slovenia', \n",
    "    'Solomon Islands', 'Somalia', 'South Africa', 'Spain', 'Sri Lanka', 'Sudan', 'Suriname', \n",
    "    'Swaziland', 'Sweden', 'Switzerland', 'Syria', 'Taiwan', 'Tajikistan', 'Tanzania', 'Thailand', \n",
    "    'Togo', 'Tonga', 'Trinidad and Tobago', 'Tunisia', 'Turkey', 'Turkmenistan', 'Tuvalu', \n",
    "    'Uganda', 'Ukraine', 'United Arab Emirates', 'United Kingdom', 'United States', 'Uruguay', \n",
    "    'Uzbekistan', 'Vanuatu', 'Vatican City', 'Venezuela', 'Vietnam', 'Yemen', 'Zambia', 'Zimbabwe']\n",
    "\n",
    "\n",
    "\n",
    "\n"
   ]
  },
  {
   "cell_type": "code",
   "execution_count": 78,
   "metadata": {},
   "outputs": [
    {
     "name": "stdout",
     "output_type": "stream",
     "text": [
      "193\n"
     ]
    }
   ],
   "source": [
    "print(len(countries))"
   ]
  },
  {
   "cell_type": "code",
   "execution_count": null,
   "metadata": {},
   "outputs": [],
   "source": []
  },
  {
   "cell_type": "code",
   "execution_count": 79,
   "metadata": {},
   "outputs": [
    {
     "name": "stdout",
     "output_type": "stream",
     "text": [
      "Lesotho\n"
     ]
    }
   ],
   "source": [
    "middle_country = (countries[96])\n",
    "print(middle_country)\n"
   ]
  },
  {
   "cell_type": "code",
   "execution_count": 82,
   "metadata": {},
   "outputs": [
    {
     "name": "stdout",
     "output_type": "stream",
     "text": [
      "First half: ['Afghanistan', 'Albania', 'Algeria', 'Andorra', 'Angola', 'Antigua and Barbuda', 'Argentina', 'Armenia', 'Australia', 'Austria', 'Azerbaijan', 'Bahamas', 'Bahrain', 'Bangladesh', 'Barbados', 'Belarus', 'Belgium', 'Belize', 'Benin', 'Bhutan', 'Bolivia', 'Bosnia and Herzegovina', 'Botswana', 'Brazil', 'Brunei', 'Bulgaria', 'Burkina Faso', 'Burundi', 'Cambodia', 'Cameroon', 'Canada', 'Cape Verde', 'Central African Republic', 'Chad', 'Chile', 'China', 'Colombi', 'Comoros', 'Congo (Brazzaville)', 'Congo', 'Costa Rica', \"Cote d'Ivoire\", 'Croatia', 'Cuba', 'Cyprus', 'Czech Republic', 'Denmark', 'Djibouti', 'Dominica', 'Dominican Republic', 'East Timor (Timor Timur)', 'Ecuador', 'Egypt', 'El Salvador', 'Equatorial Guinea', 'Eritrea', 'Estonia', 'Ethiopia', 'Fiji', 'Finland', 'France', 'Gabon', 'Gambia, The', 'Georgia', 'Germany', 'Ghana', 'Greece', 'Grenada', 'Guatemala', 'Guinea', 'Guinea-Bissau', 'Guyana', 'Haiti', 'Honduras', 'Hungary', 'Iceland', 'India', 'Indonesia', 'Iran', 'Iraq', 'Ireland', 'Israel', 'Italy', 'Jamaica', 'Japan', 'Jordan', 'Kazakhstan', 'Kenya', 'Kiribati', 'Korea, North', 'Korea, South', 'Kuwait', 'Kyrgyzstan', 'Laos', 'Latvia', 'Lebanon', 'Lesotho']\n",
      "Second half: ['Liberia', 'Libya', 'Liechtenstein', 'Lithuania', 'Luxembourg', 'Macedonia', 'Madagascar', 'Malawi', 'Malaysia', 'Maldives', 'Mali', 'Malta', 'Marshall Islands', 'Mauritania', 'Mauritius', 'Mexico', 'Micronesia', 'Moldova', 'Monaco', 'Mongolia', 'Morocco', 'Mozambique', 'Myanmar', 'Namibia', 'Nauru', 'Nepal', 'Netherlands', 'New Zealand', 'Nicaragua', 'Niger', 'Nigeria', 'Norway', 'Oman', 'Pakistan', 'Palau', 'Panama', 'Papua New Guinea', 'Paraguay', 'Peru', 'Philippines', 'Poland', 'Portugal', 'Qatar', 'Romania', 'Russia', 'Rwanda', 'Saint Kitts and Nevis', 'Saint Lucia', 'Saint Vincent', 'Samoa', 'San Marino', 'Sao Tome and Principe', 'Saudi Arabia', 'Senegal', 'Serbia and Montenegro', 'Seychelles', 'Sierra Leone', 'Singapore', 'Slovakia', 'Slovenia', 'Solomon Islands', 'Somalia', 'South Africa', 'Spain', 'Sri Lanka', 'Sudan', 'Suriname', 'Swaziland', 'Sweden', 'Switzerland', 'Syria', 'Taiwan', 'Tajikistan', 'Tanzania', 'Thailand', 'Togo', 'Tonga', 'Trinidad and Tobago', 'Tunisia', 'Turkey', 'Turkmenistan', 'Tuvalu', 'Uganda', 'Ukraine', 'United Arab Emirates', 'United Kingdom', 'United States', 'Uruguay', 'Uzbekistan', 'Vanuatu', 'Vatican City', 'Venezuela', 'Vietnam', 'Yemen', 'Zambia', 'Zimbabwe']\n"
     ]
    }
   ],
   "source": [
    "middle_index = len(countries) // 2\n",
    "first_half = countries[:middle_index + 1]\n",
    "second_half = countries[middle_index + 1:]\n",
    "\n",
    "print(\"First half:\", first_half)\n",
    "print(\"Second half:\", second_half)\n"
   ]
  },
  {
   "cell_type": "code",
   "execution_count": 87,
   "metadata": {},
   "outputs": [
    {
     "name": "stdout",
     "output_type": "stream",
     "text": [
      "First country: China\n",
      "Second country: Russia\n",
      "Third country: USA\n",
      "Scandic countries: ['Finland', 'Sweden', 'Norway', 'Denmark']\n"
     ]
    }
   ],
   "source": [
    "\n",
    "countries = ['China', 'Russia', 'USA', 'Finland', 'Sweden', 'Norway', 'Denmark']\n",
    "\n",
    "\n",
    "print(\"First country:\", 'China')\n",
    "print(\"Second country:\", 'Russia')\n",
    "print(\"Third country:\", 'USA')\n",
    "print(\"Scandic countries:\",countries[3:])"
   ]
  },
  {
   "cell_type": "markdown",
   "metadata": {},
   "source": [
    "# TUPLE EXERCISES"
   ]
  },
  {
   "cell_type": "markdown",
   "metadata": {},
   "source": [
    "### LEVEL 1"
   ]
  },
  {
   "cell_type": "code",
   "execution_count": 1,
   "metadata": {},
   "outputs": [
    {
     "name": "stdout",
     "output_type": "stream",
     "text": [
      "()\n"
     ]
    }
   ],
   "source": [
    "# QUESTION 1\n",
    "empty_tuple = ()\n",
    "print(empty_tuple)"
   ]
  },
  {
   "cell_type": "code",
   "execution_count": 3,
   "metadata": {},
   "outputs": [
    {
     "name": "stdout",
     "output_type": "stream",
     "text": [
      "('Hadiza', 'Amira', 'Samira', 'Rawal', 'Fati')\n",
      "('Baba', 'Faruk', 'Samir')\n"
     ]
    }
   ],
   "source": [
    "# Question 2\n",
    "sisters = ('Hadiza', 'Amira', 'Samira', 'Rawal', 'Fati')\n",
    "brothers = ('Baba', 'Faruk', 'Samir')  \n",
    "print(sisters)\n",
    "print(brothers)"
   ]
  },
  {
   "cell_type": "code",
   "execution_count": 4,
   "metadata": {},
   "outputs": [
    {
     "name": "stdout",
     "output_type": "stream",
     "text": [
      "('Hadiza', 'Amira', 'Samira', 'Rawal', 'Fati', 'Baba', 'Faruk', 'Samir')\n"
     ]
    }
   ],
   "source": [
    "# Question 3\n",
    "siblings = sisters + brothers\n",
    "print(siblings)"
   ]
  },
  {
   "cell_type": "code",
   "execution_count": 5,
   "metadata": {},
   "outputs": [
    {
     "name": "stdout",
     "output_type": "stream",
     "text": [
      "8\n"
     ]
    }
   ],
   "source": [
    "# Question 4\n",
    "Total_siblings = len(siblings)\n",
    "print(Total_siblings)"
   ]
  },
  {
   "cell_type": "code",
   "execution_count": 6,
   "metadata": {},
   "outputs": [
    {
     "name": "stdout",
     "output_type": "stream",
     "text": [
      "my_family: ('Hadiza', 'Amira', 'Samira', 'Rawal', 'Fati', 'Baba', 'Faruk', 'Samir', 'Abubakar', 'Khadija')\n"
     ]
    }
   ],
   "source": [
    "# Question 5\n",
    "my_family = siblings + ('Abubakar', 'Khadija')\n",
    "print(\"my_family:\", my_family)"
   ]
  },
  {
   "cell_type": "markdown",
   "metadata": {},
   "source": [
    "### LEVEL 2"
   ]
  },
  {
   "cell_type": "code",
   "execution_count": null,
   "metadata": {},
   "outputs": [
    {
     "name": "stdout",
     "output_type": "stream",
     "text": [
      "Siblings: ('Hadiza', 'Amira', 'Samira', 'Rawal', 'Fati', 'Baba', 'Faruk', 'Samir')\n",
      "Father: Abubakar\n",
      "Mother: Khadija\n"
     ]
    }
   ],
   "source": [
    "# Question 1\n",
    "my_family = ('Hadiza', 'Amira', 'Samira', 'Rawal', 'Fati', 'Ahmed', 'Khalid', 'Yusuf', 'Abubakar', 'Khadija')\n",
    "\n",
    "print(\"Siblings:\", siblings)\n",
    "print(\"Father:\", 'Abubakar')\n",
    "print(\"Mother:\", 'Khadija')"
   ]
  },
  {
   "cell_type": "code",
   "execution_count": 9,
   "metadata": {},
   "outputs": [
    {
     "name": "stdout",
     "output_type": "stream",
     "text": [
      "Food Stuff Tuple: ('Pear', 'Pineapple', 'Water melon', 'Cucumber', 'Potato', 'Onions', 'Milk', 'Eggs', 'Meat')\n"
     ]
    }
   ],
   "source": [
    "# Question 2\n",
    "fruits = ('Pear', 'Pineapple', 'Water melon')\n",
    "vegetables = ('Cucumber', 'Potato', 'Onions')\n",
    "animal_products = ('Milk', 'Eggs', 'Meat')\n",
    "\n",
    "food_stuff_tp = fruits + vegetables + animal_products\n",
    "print(\"Food Stuff Tuple:\", food_stuff_tp)"
   ]
  },
  {
   "cell_type": "code",
   "execution_count": 12,
   "metadata": {},
   "outputs": [
    {
     "name": "stdout",
     "output_type": "stream",
     "text": [
      "['Pear', 'Pineapple', 'Water melon', 'Cucumber', 'Potato', 'Onions', 'Milk', 'Eggs', 'Meat']\n"
     ]
    }
   ],
   "source": [
    "# Question 3\n",
    "food_stuff_lt = list(food_stuff_tp)\n",
    "print(food_stuff_lt)"
   ]
  },
  {
   "cell_type": "code",
   "execution_count": 14,
   "metadata": {},
   "outputs": [
    {
     "name": "stdout",
     "output_type": "stream",
     "text": [
      "['Pear', 'Pineapple', 'Water melon', 'Cucumber', 'Potato', 'Onions', 'Milk', 'Eggs', 'Meat']\n",
      "Potato\n"
     ]
    }
   ],
   "source": [
    "# QUESTION 4\n",
    "\n",
    "print(food_stuff_lt)\n",
    "midddle_item = food_stuff_lt[4]\n",
    "print(midddle_item)"
   ]
  },
  {
   "cell_type": "code",
   "execution_count": 15,
   "metadata": {},
   "outputs": [
    {
     "name": "stdout",
     "output_type": "stream",
     "text": [
      "['Pear', 'Pineapple', 'Water melon']\n",
      "['Milk', 'Eggs', 'Meat']\n"
     ]
    }
   ],
   "source": [
    "# QUESTION 5\n",
    "first_3items = food_stuff_lt[:3]\n",
    "last_3items = food_stuff_lt[-3:]\n",
    "print(first_3items)\n",
    "print(last_3items)"
   ]
  },
  {
   "cell_type": "code",
   "execution_count": null,
   "metadata": {},
   "outputs": [],
   "source": [
    "# QUESTION 6\n",
    "del food_stuff_tp"
   ]
  },
  {
   "cell_type": "code",
   "execution_count": 18,
   "metadata": {},
   "outputs": [
    {
     "name": "stdout",
     "output_type": "stream",
     "text": [
      "Is 'Estonia' a Nordic country? False\n",
      "Is 'Iceland' a Nordic country? True\n"
     ]
    }
   ],
   "source": [
    "# QUESTION 7\n",
    "nordic_countries = ('Denmark', 'Finland', 'Iceland', 'Norway', 'Sweden')\n",
    "print(\"Is 'Estonia' a Nordic country?\", 'Estonia' in nordic_countries)\n",
    "print(\"Is 'Iceland' a Nordic country?\", 'Iceland' in nordic_countries)"
   ]
  },
  {
   "cell_type": "markdown",
   "metadata": {},
   "source": [
    "# SET EXERCISES"
   ]
  },
  {
   "cell_type": "markdown",
   "metadata": {},
   "source": [
    "### LEVEL 1"
   ]
  },
  {
   "cell_type": "code",
   "execution_count": 10,
   "metadata": {},
   "outputs": [
    {
     "name": "stdout",
     "output_type": "stream",
     "text": [
      "lenth of companies is 7\n"
     ]
    }
   ],
   "source": [
    "#QUESTION 1\n",
    "it_companies = {'Facebook', 'Google', 'Microsoft', 'Apple', 'IBM', 'Oracle', 'Amazon'}\n",
    "print(f'lenth of companies is', len(it_companies))"
   ]
  },
  {
   "cell_type": "code",
   "execution_count": 11,
   "metadata": {},
   "outputs": [
    {
     "name": "stdout",
     "output_type": "stream",
     "text": [
      "{'Twitter', 'Google', 'Apple', 'Amazon', 'Oracle', 'Microsoft', 'IBM', 'Facebook'}\n"
     ]
    }
   ],
   "source": [
    "#QUESTION 2\n",
    "it_companies.add('Twitter')\n",
    "print(it_companies) "
   ]
  },
  {
   "cell_type": "code",
   "execution_count": 12,
   "metadata": {},
   "outputs": [
    {
     "name": "stdout",
     "output_type": "stream",
     "text": [
      "{'Google', 'Apple', 'Amazon', 'Snapchat', 'Oracle', 'Facebook', 'Twitter', 'Linkedin', 'IBM', 'Whatsapp', 'Microsoft'}\n"
     ]
    }
   ],
   "source": [
    "it_companies.update({'Linkedin', 'Snapchat', 'Whatsapp'})\n",
    "print(it_companies)"
   ]
  },
  {
   "cell_type": "code",
   "execution_count": 13,
   "metadata": {},
   "outputs": [
    {
     "name": "stdout",
     "output_type": "stream",
     "text": [
      "{'Google', 'Apple', 'Amazon', 'Snapchat', 'Oracle', 'Twitter', 'Linkedin', 'IBM', 'Whatsapp', 'Microsoft'}\n"
     ]
    }
   ],
   "source": [
    "it_companies.remove('Facebook')\n",
    "print(it_companies)"
   ]
  },
  {
   "cell_type": "markdown",
   "metadata": {},
   "source": [
    "### LEVEL 2"
   ]
  },
  {
   "cell_type": "code",
   "execution_count": 14,
   "metadata": {},
   "outputs": [
    {
     "name": "stdout",
     "output_type": "stream",
     "text": [
      "{19, 20, 22, 24, 25, 26, 27, 28}\n"
     ]
    }
   ],
   "source": [
    "A = {19, 22, 24, 20, 25, 26}\n",
    "B = {19, 22, 20, 25, 26, 24, 28,27}\n",
    "union_AB = A.union(B)\n",
    "print(union_AB)"
   ]
  },
  {
   "cell_type": "code",
   "execution_count": 15,
   "metadata": {},
   "outputs": [
    {
     "name": "stdout",
     "output_type": "stream",
     "text": [
      "{19, 20, 22, 24, 25, 26}\n"
     ]
    }
   ],
   "source": [
    "intersection_AB = A.intersection(B)\n",
    "print(intersection_AB)"
   ]
  },
  {
   "cell_type": "code",
   "execution_count": 17,
   "metadata": {},
   "outputs": [
    {
     "name": "stdout",
     "output_type": "stream",
     "text": [
      "True\n"
     ]
    }
   ],
   "source": [
    "is_A_subset_B = A.issubset(B)\n",
    "print(is_A_subset_B)"
   ]
  },
  {
   "cell_type": "code",
   "execution_count": 18,
   "metadata": {},
   "outputs": [
    {
     "name": "stdout",
     "output_type": "stream",
     "text": [
      "False\n"
     ]
    }
   ],
   "source": [
    "is_AB_disjoint = A.isdisjoint(B)\n",
    "print(is_AB_disjoint)"
   ]
  },
  {
   "cell_type": "code",
   "execution_count": 19,
   "metadata": {},
   "outputs": [
    {
     "name": "stdout",
     "output_type": "stream",
     "text": [
      "{19, 20, 22, 24, 25, 26, 27, 28}\n",
      "{19, 20, 22, 24, 25, 26, 27, 28}\n"
     ]
    }
   ],
   "source": [
    "A_B_joined = A|B\n",
    "B_A_joined = B|A\n",
    "print(A_B_joined)\n",
    "print(B_A_joined)"
   ]
  },
  {
   "cell_type": "code",
   "execution_count": 20,
   "metadata": {},
   "outputs": [
    {
     "name": "stdout",
     "output_type": "stream",
     "text": [
      "{27, 28}\n"
     ]
    }
   ],
   "source": [
    "Sym_diff_btw_AB = A.symmetric_difference(B)\n",
    "print(Sym_diff_btw_AB)"
   ]
  },
  {
   "cell_type": "code",
   "execution_count": null,
   "metadata": {},
   "outputs": [],
   "source": [
    "del A\n",
    "del B\n",
    "print(Both sets deleted)"
   ]
  },
  {
   "cell_type": "markdown",
   "metadata": {},
   "source": [
    "### LEVEL 3"
   ]
  },
  {
   "cell_type": "code",
   "execution_count": 22,
   "metadata": {},
   "outputs": [
    {
     "name": "stdout",
     "output_type": "stream",
     "text": [
      "8\n",
      "5\n"
     ]
    }
   ],
   "source": [
    "Ages = [22, 19, 24, 25, 26, 24, 25, 24]\n",
    "ages_set = set(Ages)\n",
    "print(len(Ages))\n",
    "print(len(ages_set))"
   ]
  },
  {
   "cell_type": "code",
   "execution_count": 23,
   "metadata": {},
   "outputs": [
    {
     "name": "stdout",
     "output_type": "stream",
     "text": [
      "{'inspire', 'to', 'teach', 'i', 'a', 'teacher', 'and', 'am', 'love', 'people'}\n",
      "10\n"
     ]
    }
   ],
   "source": [
    "sentence ='i am a teacher and i love to inspire and teach people'\n",
    "words = sentence.split()\n",
    "unique_words = set(words)\n",
    "print(unique_words)\n",
    "print(len(unique_words))"
   ]
  }
 ],
 "metadata": {
  "kernelspec": {
   "display_name": "base",
   "language": "python",
   "name": "python3"
  },
  "language_info": {
   "codemirror_mode": {
    "name": "ipython",
    "version": 3
   },
   "file_extension": ".py",
   "mimetype": "text/x-python",
   "name": "python",
   "nbconvert_exporter": "python",
   "pygments_lexer": "ipython3",
   "version": "3.11.5"
  }
 },
 "nbformat": 4,
 "nbformat_minor": 2
}
