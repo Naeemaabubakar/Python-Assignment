{
 "cells": [
  {
   "cell_type": "markdown",
   "metadata": {},
   "source": [
    "# EXERCISES - MODULE 6\n"
   ]
  },
  {
   "cell_type": "markdown",
   "metadata": {},
   "source": [
    "## DICTIONARIES"
   ]
  },
  {
   "cell_type": "code",
   "execution_count": 2,
   "metadata": {},
   "outputs": [],
   "source": [
    "# QUESTION 1\n",
    "dog ={}"
   ]
  },
  {
   "cell_type": "code",
   "execution_count": 3,
   "metadata": {},
   "outputs": [
    {
     "name": "stdout",
     "output_type": "stream",
     "text": [
      "{'name': 'cyprus', 'color': 'white', 'breed': 'dalmacian', 'legs': 4, 'age': 3}\n"
     ]
    }
   ],
   "source": [
    "#  QUESTION 2\n",
    "dog[\"name\"] = \"cyprus\"\n",
    "dog[\"color\"] = \"white\"\n",
    "dog[\"breed\"] = \"dalmacian\"\n",
    "dog[\"legs\"] = 4\n",
    "dog[\"age\"] = 3\n",
    "\n",
    "print(dog)"
   ]
  },
  {
   "cell_type": "code",
   "execution_count": 8,
   "metadata": {},
   "outputs": [],
   "source": [
    "# QUESTION 3\n",
    "student = {\n",
    "    \"first_name\": \"Naima\",\n",
    "    \"last_name\": \"Abubakar\",\n",
    "    \"gender\": \"Female\",\n",
    "    \"age\": 35,\n",
    "    \"marital_status\": \"Married\",\n",
    "    \"skills\": [\"Python\", \"Excel\"],\n",
    "    \"country\": \"Nigeria\",\n",
    "    \"city\": \"Abuja\",\n",
    "    \"address\": \"No. 46, Makama strt. Hotoro\"\n",
    "}"
   ]
  },
  {
   "cell_type": "code",
   "execution_count": 16,
   "metadata": {},
   "outputs": [
    {
     "name": "stdout",
     "output_type": "stream",
     "text": [
      "Length of the student dictionary is 9\n"
     ]
    }
   ],
   "source": [
    "# QUESTION 4\n",
    "student_length = len(student)\n",
    "print(\"Length of the student dictionary is\", student_length)"
   ]
  },
  {
   "cell_type": "code",
   "execution_count": 17,
   "metadata": {},
   "outputs": [
    {
     "name": "stdout",
     "output_type": "stream",
     "text": [
      "Skills: ['Python', 'Excel']\n",
      "Data type of skills is <class 'list'>\n"
     ]
    }
   ],
   "source": [
    "#QUESTION 5\n",
    "skills = student[\"skills\"]\n",
    "print(\"Skills:\", skills)\n",
    "print(\"Data type of skills is\", type(skills))"
   ]
  },
  {
   "cell_type": "code",
   "execution_count": 23,
   "metadata": {},
   "outputs": [
    {
     "name": "stdout",
     "output_type": "stream",
     "text": [
      "['Python', 'Excel', 'SQL']\n"
     ]
    }
   ],
   "source": [
    "#QUESTION 6\n",
    "student['skills'].append('SQL')\n",
    "print(skills)"
   ]
  },
  {
   "cell_type": "code",
   "execution_count": 27,
   "metadata": {},
   "outputs": [
    {
     "name": "stdout",
     "output_type": "stream",
     "text": [
      "Keys in the student dictionary are ['first_name', 'last_name', 'gender', 'age', 'marital_status', 'skills', 'country', 'city', 'address']\n"
     ]
    }
   ],
   "source": [
    "# QUESTION 7\n",
    "student_keys = list(student.keys())\n",
    "print(student_keys)"
   ]
  },
  {
   "cell_type": "code",
   "execution_count": 28,
   "metadata": {},
   "outputs": [
    {
     "name": "stdout",
     "output_type": "stream",
     "text": [
      "Values in the student dictionary are ['Naima', 'Abubakar', 'Female', 35, 'Married', ['Python', 'Excel', 'SQL'], 'Nigeria', 'Abuja', 'No. 46, Makama strt. Hotoro']\n"
     ]
    }
   ],
   "source": [
    "# QUESTION 8\n",
    "student_values = list(student.values())\n",
    "print(student_values)"
   ]
  },
  {
   "cell_type": "code",
   "execution_count": 30,
   "metadata": {},
   "outputs": [
    {
     "name": "stdout",
     "output_type": "stream",
     "text": [
      "[('first_name', 'Naima'), ('last_name', 'Abubakar'), ('gender', 'Female'), ('age', 35), ('marital_status', 'Married'), ('skills', ['Python', 'Excel', 'SQL']), ('country', 'Nigeria'), ('city', 'Abuja'), ('address', 'No. 46, Makama strt. Hotoro')]\n"
     ]
    }
   ],
   "source": [
    "# QUESTION 9\n",
    "student_items = list(student.items())\n",
    "print(student_items)"
   ]
  },
  {
   "cell_type": "code",
   "execution_count": null,
   "metadata": {},
   "outputs": [],
   "source": [
    "# QUESTION 10\n",
    "del student[\"age\"]\n",
    "print(student)"
   ]
  },
  {
   "cell_type": "code",
   "execution_count": null,
   "metadata": {},
   "outputs": [],
   "source": [
    "# QUESTION 11\n",
    "del dog\n",
    "print(\"deleted.\")"
   ]
  },
  {
   "cell_type": "code",
   "execution_count": null,
   "metadata": {},
   "outputs": [],
   "source": []
  }
 ],
 "metadata": {
  "kernelspec": {
   "display_name": "base",
   "language": "python",
   "name": "python3"
  },
  "language_info": {
   "codemirror_mode": {
    "name": "ipython",
    "version": 3
   },
   "file_extension": ".py",
   "mimetype": "text/x-python",
   "name": "python",
   "nbconvert_exporter": "python",
   "pygments_lexer": "ipython3",
   "version": "3.11.5"
  }
 },
 "nbformat": 4,
 "nbformat_minor": 2
}
