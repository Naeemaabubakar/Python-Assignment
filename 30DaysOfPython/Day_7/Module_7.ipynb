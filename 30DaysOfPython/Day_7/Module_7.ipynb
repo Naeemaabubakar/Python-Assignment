{
 "cells": [
  {
   "cell_type": "markdown",
   "metadata": {},
   "source": [
    "# EXERCISES-MODULE 7"
   ]
  },
  {
   "cell_type": "markdown",
   "metadata": {},
   "source": []
  },
  {
   "cell_type": "markdown",
   "metadata": {},
   "source": [
    "## LEVEL 1"
   ]
  },
  {
   "cell_type": "code",
   "execution_count": 1,
   "metadata": {},
   "outputs": [
    {
     "name": "stdout",
     "output_type": "stream",
     "text": [
      "You need 3 more years to learn to drive.\n"
     ]
    }
   ],
   "source": [
    "# QUESTION 1\n",
    "age = int(input(\"Enter your age: \"))\n",
    "if age >= 18:\n",
    "    print(\"You are old enough to learn to drive.\")\n",
    "else:\n",
    "    years_needed = 18 - age\n",
    "    print(f\"You need {years_needed} more year{'s' if years_needed > 1 else ''} to learn to drive.\")\n"
   ]
  },
  {
   "cell_type": "code",
   "execution_count": 2,
   "metadata": {},
   "outputs": [
    {
     "name": "stdout",
     "output_type": "stream",
     "text": [
      "I am 11 years older than you.\n"
     ]
    }
   ],
   "source": [
    "# QUESTION 2\n",
    "my_age = 35  \n",
    "your_age = int(input(\"Enter your age: \"))\n",
    "age_difference = abs(my_age - your_age)\n",
    "\n",
    "if your_age > my_age:\n",
    "    print(f\"You are {age_difference} year{'s' if age_difference > 1 else ''} older than me.\")\n",
    "elif your_age < my_age:\n",
    "    print(f\"I am {age_difference} year{'s' if age_difference > 1 else ''} older than you.\")\n",
    "else:\n",
    "    print(\"We are the same age.\")"
   ]
  },
  {
   "cell_type": "code",
   "execution_count": 4,
   "metadata": {},
   "outputs": [
    {
     "name": "stdout",
     "output_type": "stream",
     "text": [
      "3 is smaller than 6\n"
     ]
    }
   ],
   "source": [
    "# QUESTION 3\n",
    "a = int(input(\"Enter number one: \"))\n",
    "b = int(input(\"Enter number two: \"))\n",
    "\n",
    "if a > b:\n",
    "    print(f\"{a} is greater than {b}\")\n",
    "elif a < b:\n",
    "    print(f\"{a} is smaller than {b}\")\n",
    "else:\n",
    "    print(f\"{a} is equal to {b}\")"
   ]
  },
  {
   "cell_type": "markdown",
   "metadata": {},
   "source": [
    "# LEVEL 2"
   ]
  },
  {
   "cell_type": "code",
   "execution_count": null,
   "metadata": {},
   "outputs": [],
   "source": [
    "# QUESTION 1\n",
    "score = int(input(\"Enter the student's score: \"))\n",
    "\n",
    "if 80 <= score <= 100:\n",
    "    grade = 'A'\n",
    "elif 70 <= score <= 79:\n",
    "    grade = 'B'\n",
    "elif 60 <= score <= 69:\n",
    "    grade = 'C'\n",
    "elif 50 <= score <= 59:\n",
    "    grade = 'D'\n",
    "elif 0 <= score <= 49:\n",
    "    grade = 'F'\n",
    "else:\n",
    "    grade = \"Invalid score\"\n",
    "print(f\"The student's grade is: {grade}\")\n",
    "\n"
   ]
  },
  {
   "cell_type": "code",
   "execution_count": null,
   "metadata": {},
   "outputs": [],
   "source": [
    "# QUESTION 2\n",
    "month = input(\"Enter a month: \").strip().capitalize()\n",
    "\n",
    "if month in ['September', 'October', 'November']:\n",
    "    season = 'Autumn'\n",
    "elif month in ['December', 'January', 'February']:\n",
    "    season = 'Winter'\n",
    "elif month in ['March', 'April', 'May']:\n",
    "    season = 'Spring'\n",
    "elif month in ['June', 'July', 'August']:\n",
    "    season = 'Summer'\n",
    "else:\n",
    "    season = 'Invalid month'\n",
    "print(f\"The season is: {season}\")"
   ]
  },
  {
   "cell_type": "code",
   "execution_count": null,
   "metadata": {},
   "outputs": [],
   "source": [
    "# QUESTION 3\n",
    "fruits = ['banana', 'orange', 'mango', 'lemon']\n",
    "fruit_to_check = input(\"Enter a fruit: \").strip().lower()\n",
    "\n",
    "if fruit_to_check in fruits:\n",
    "    print(\"That fruit already exists in the list.\")\n",
    "else:\n",
    "    fruits.append(fruit_to_check)\n",
    "    print(\"Modified list of fruits:\", fruits)"
   ]
  },
  {
   "cell_type": "markdown",
   "metadata": {},
   "source": [
    "# LEVEL 3"
   ]
  },
  {
   "cell_type": "code",
   "execution_count": 1,
   "metadata": {},
   "outputs": [
    {
     "name": "stdout",
     "output_type": "stream",
     "text": [
      "The middle skill is: Node\n",
      "Has Python skill: True\n",
      "He is a backend developer\n",
      "Asabeneh Yetayeh is married and lives in Finland.\n",
      "He is 250 years old.\n"
     ]
    }
   ],
   "source": [
    "# QUESTION 1\n",
    "# Person dictionary\n",
    "person = {\n",
    "    'first_name': 'Asabeneh',\n",
    "    'last_name': 'Yetayeh',\n",
    "    'age': 250,\n",
    "    'country': 'Finland',\n",
    "    'is_marred': True,\n",
    "    'skills': ['JavaScript', 'React', 'Node', 'MongoDB', 'Python'],\n",
    "    'address': {\n",
    "        'street': 'Space street',\n",
    "        'zipcode': '02210'\n",
    "    }\n",
    "}\n",
    "\n",
    "# 1. Check if the dictionary has the key 'skills' and print the middle skill\n",
    "if 'skills' in person:\n",
    "    skills = person['skills']\n",
    "    middle_index = len(skills) // 2\n",
    "    print(f\"The middle skill is: {skills[middle_index]}\")\n",
    "\n",
    "# 2. Check if the person has 'Python' skill\n",
    "if 'skills' in person:\n",
    "    has_python = 'Python' in person['skills']\n",
    "    print(f\"Has Python skill: {has_python}\")\n",
    "\n",
    "# 3. Determine the person's title based on skills\n",
    "if 'skills' in person:\n",
    "    skills = person['skills']\n",
    "    if set(skills) == {'JavaScript', 'React'}:\n",
    "        print(\"He is a front end developer\")\n",
    "    elif all(skill in skills for skill in ['Node', 'Python', 'MongoDB']):\n",
    "        print(\"He is a backend developer\")\n",
    "    elif all(skill in skills for skill in ['React', 'Node', 'MongoDB']):\n",
    "        print(\"He is a fullstack developer\")\n",
    "    else:\n",
    "        print(\"Unknown title\")\n",
    "\n",
    "# 4. Print information if the person is married and lives in Finland\n",
    "if person.get('is_marred') and person.get('country') == 'Finland':\n",
    "    info = (\n",
    "        f\"{person['first_name']} {person['last_name']} is married and lives in Finland.\\n\"\n",
    "        f\"He is {person['age']} years old.\"\n",
    "    )\n",
    "    print(info)\n"
   ]
  }
 ],
 "metadata": {
  "kernelspec": {
   "display_name": "base",
   "language": "python",
   "name": "python3"
  },
  "language_info": {
   "codemirror_mode": {
    "name": "ipython",
    "version": 3
   },
   "file_extension": ".py",
   "mimetype": "text/x-python",
   "name": "python",
   "nbconvert_exporter": "python",
   "pygments_lexer": "ipython3",
   "version": "3.11.5"
  }
 },
 "nbformat": 4,
 "nbformat_minor": 2
}
