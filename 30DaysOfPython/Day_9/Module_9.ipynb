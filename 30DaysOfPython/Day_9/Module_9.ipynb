{
 "cells": [
  {
   "cell_type": "markdown",
   "metadata": {},
   "source": [
    "### EXERCISES: LEVEL 1\n"
   ]
  },
  {
   "cell_type": "code",
   "execution_count": 1,
   "metadata": {},
   "outputs": [
    {
     "name": "stdout",
     "output_type": "stream",
     "text": [
      "90\n"
     ]
    }
   ],
   "source": [
    "#QUESTION 1\n",
    "def add_two_numbers():\n",
    "  a = 34\n",
    "  b = 56\n",
    "  total = a + b\n",
    "  return total \n",
    "\n",
    "print(add_two_numbers())\n"
   ]
  },
  {
   "cell_type": "code",
   "execution_count": 2,
   "metadata": {},
   "outputs": [
    {
     "name": "stdout",
     "output_type": "stream",
     "text": [
      "2827.7999999999997\n"
     ]
    }
   ],
   "source": [
    "#QUESTION 2\n",
    "\n",
    "def area_of_circle(radius):\n",
    "    pi =3.142\n",
    "    radius = 30\n",
    "    return pi * radius * radius\n",
    "\n",
    "print(area_of_circle(30))\n",
    "\n"
   ]
  },
  {
   "cell_type": "code",
   "execution_count": 3,
   "metadata": {},
   "outputs": [
    {
     "name": "stdout",
     "output_type": "stream",
     "text": [
      "18\n"
     ]
    }
   ],
   "source": [
    "#QUESTION 3\n",
    "def sum_all_nums(*nums):\n",
    "    total = 0\n",
    "    for num in nums:\n",
    "        total += num     \n",
    "    return total\n",
    "print(sum_all_nums(7, 2, 9)) "
   ]
  },
  {
   "cell_type": "code",
   "execution_count": 5,
   "metadata": {},
   "outputs": [
    {
     "name": "stdout",
     "output_type": "stream",
     "text": [
      "35.6\n",
      "158.0\n"
     ]
    }
   ],
   "source": [
    "# QUESTION 4\n",
    "def convert_celsius_to_fahrenheit(celsius):\n",
    "    return (celsius * 9/5) + 32\n",
    "\n",
    "\n",
    "print(convert_celsius_to_fahrenheit(2))    \n",
    "print(convert_celsius_to_fahrenheit(70))  \n"
   ]
  },
  {
   "cell_type": "code",
   "execution_count": 6,
   "metadata": {},
   "outputs": [
    {
     "name": "stdout",
     "output_type": "stream",
     "text": [
      "Winter\n"
     ]
    }
   ],
   "source": [
    "#QUESTION 5\n",
    "def check_season(month):\n",
    "    month = month.lower()\n",
    "    if month in ['december', 'january', 'february']:\n",
    "        return 'Winter'\n",
    "    elif month in ['march', 'april', 'may']:\n",
    "        return 'Spring'\n",
    "    elif month in ['june', 'july', 'august']:\n",
    "        return 'Summer'\n",
    "    elif month in ['september', 'october', 'november']:\n",
    "        return 'Autumn'\n",
    "    return 'Invalid month'\n",
    "\n",
    "\n",
    "print(check_season('december'))  \n"
   ]
  },
  {
   "cell_type": "code",
   "execution_count": 7,
   "metadata": {},
   "outputs": [
    {
     "name": "stdout",
     "output_type": "stream",
     "text": [
      "1.0\n"
     ]
    }
   ],
   "source": [
    "# QUESTION 6\n",
    "def calculate_slope(x1, y1, x2, y2):\n",
    "    return (y2 - y1) / (x2 - x1)\n",
    "\n",
    "\n",
    "print(calculate_slope(1, 3, 6, 8))  \n"
   ]
  },
  {
   "cell_type": "code",
   "execution_count": 8,
   "metadata": {},
   "outputs": [
    {
     "name": "stdout",
     "output_type": "stream",
     "text": [
      "chair\n",
      "table\n",
      "fan\n",
      "window\n"
     ]
    }
   ],
   "source": [
    "#QUESTION 8\n",
    "def print_list(items):\n",
    "    for item in items:\n",
    "        print(item)\n",
    "\n",
    "\n",
    "print_list(['chair', 'table', 'fan', 'window'])\n"
   ]
  },
  {
   "cell_type": "code",
   "execution_count": 10,
   "metadata": {},
   "outputs": [
    {
     "name": "stdout",
     "output_type": "stream",
     "text": [
      "['window', 'fan', 'table', 'chair']\n"
     ]
    }
   ],
   "source": [
    "#QUESTION 9\n",
    "def reverse_list(items):\n",
    "    reversed_lst = []\n",
    "    for item in items:\n",
    "        reversed_lst.insert(0, item)\n",
    "    return reversed_lst\n",
    "\n",
    "# Example usage:\n",
    "print(reverse_list(['chair', 'table', 'fan', 'window']))  \n",
    "\n"
   ]
  },
  {
   "cell_type": "code",
   "execution_count": 11,
   "metadata": {},
   "outputs": [
    {
     "name": "stdout",
     "output_type": "stream",
     "text": [
      "['Chair', 'Table', 'Fan', 'Window']\n"
     ]
    }
   ],
   "source": [
    "# QUESTION 10\n",
    "def capitalize_list_items(items):\n",
    "    return [item.capitalize() for item in items]\n",
    "\n",
    "# Example usage:\n",
    "print(capitalize_list_items(['chair', 'table', 'fan', 'window']))  \n"
   ]
  },
  {
   "cell_type": "code",
   "execution_count": 12,
   "metadata": {},
   "outputs": [
    {
     "name": "stdout",
     "output_type": "stream",
     "text": [
      "['chair', 'table', 'fan', 'window', 'Vase']\n"
     ]
    }
   ],
   "source": [
    "#QUESTION 11\n",
    "def add_item(items, item):\n",
    "    items.append(item)\n",
    "    return items\n",
    "\n",
    "\n",
    "Parlor = ['chair', 'table', 'fan', 'window']\n",
    "print(add_item(Parlor, 'Vase'))  \n"
   ]
  },
  {
   "cell_type": "code",
   "execution_count": 14,
   "metadata": {},
   "outputs": [
    {
     "name": "stdout",
     "output_type": "stream",
     "text": [
      "['chair', 'table', 'fan']\n"
     ]
    }
   ],
   "source": [
    "#QUESTION 12\n",
    "def remove_item(items, item):\n",
    "    if item in items:\n",
    "        items.remove(item)\n",
    "    return items\n",
    "\n",
    "\n",
    "Parlor= ['chair', 'table', 'fan', 'window']\n",
    "print(remove_item(Parlor, 'window'))  \n"
   ]
  },
  {
   "cell_type": "code",
   "execution_count": 16,
   "metadata": {},
   "outputs": [
    {
     "name": "stdout",
     "output_type": "stream",
     "text": [
      "15\n",
      "55\n",
      "5050\n"
     ]
    }
   ],
   "source": [
    "#QUESTION 13\n",
    "def sum_of_numbers(num):\n",
    "    return sum(range(1, num + 1))\n",
    "\n",
    "print(sum_of_numbers(5)) \n",
    "print(sum_of_numbers(10)) \n",
    "print(sum_of_numbers(100))  \n"
   ]
  },
  {
   "cell_type": "code",
   "execution_count": 17,
   "metadata": {},
   "outputs": [
    {
     "name": "stdout",
     "output_type": "stream",
     "text": [
      "9\n",
      "25\n",
      "2500\n"
     ]
    }
   ],
   "source": [
    "#QUESTION 14\n",
    "def sum_of_odds(num):\n",
    "    return sum(i for i in range(1, num + 1) if i % 2 != 0)\n",
    "\n",
    "\n",
    "print(sum_of_odds(5)) \n",
    "print(sum_of_odds(10))\n",
    "print(sum_of_odds(100))\n",
    " \n"
   ]
  },
  {
   "cell_type": "code",
   "execution_count": 18,
   "metadata": {},
   "outputs": [
    {
     "name": "stdout",
     "output_type": "stream",
     "text": [
      "6\n",
      "30\n",
      "2550\n"
     ]
    }
   ],
   "source": [
    "#QUESTION 15\n",
    "def sum_of_even(num):\n",
    "    return sum(i for i in range(1, num + 1) if i % 2 == 0)\n",
    "\n",
    "# Example usage:\n",
    "print(sum_of_even(5))  \n",
    "print(sum_of_even(10)) \n",
    "print(sum_of_even(100)) \n"
   ]
  },
  {
   "cell_type": "markdown",
   "metadata": {},
   "source": [
    "### LEVEL 2"
   ]
  },
  {
   "cell_type": "code",
   "execution_count": 19,
   "metadata": {},
   "outputs": [
    {
     "name": "stdout",
     "output_type": "stream",
     "text": [
      "Evens: 51, Odds: 50\n"
     ]
    }
   ],
   "source": [
    "#QUESTION 1\n",
    "def evens_and_odds(n):\n",
    "    evens = 0\n",
    "    odds = 0\n",
    "    for i in range(n + 1):\n",
    "        if i % 2 == 0:\n",
    "            evens += 1\n",
    "        else:\n",
    "            odds += 1\n",
    "    return f\"Evens: {evens}, Odds: {odds}\"\n",
    "\n",
    "# Example usage:\n",
    "print(evens_and_odds(100))  \n"
   ]
  },
  {
   "cell_type": "code",
   "execution_count": 20,
   "metadata": {},
   "outputs": [
    {
     "name": "stdout",
     "output_type": "stream",
     "text": [
      "6\n"
     ]
    }
   ],
   "source": [
    "#QUESTION 2\n",
    "def factorial(num):\n",
    "    result = 1\n",
    "    for i in range(1, num + 1):\n",
    "        result *= i\n",
    "    return result\n",
    "\n",
    "\n",
    "print(factorial(3))  \n"
   ]
  },
  {
   "cell_type": "code",
   "execution_count": 21,
   "metadata": {},
   "outputs": [
    {
     "name": "stdout",
     "output_type": "stream",
     "text": [
      "True\n",
      "False\n"
     ]
    }
   ],
   "source": [
    "#QUESTION 3\n",
    "def is_empty(value):\n",
    "    if value:\n",
    "        return False\n",
    "    return True\n",
    "\n",
    "\n",
    "print(is_empty([]))      \n",
    "print(is_empty(\"Naima\")) \n"
   ]
  },
  {
   "cell_type": "code",
   "execution_count": 22,
   "metadata": {},
   "outputs": [
    {
     "name": "stdout",
     "output_type": "stream",
     "text": [
      "5.0\n"
     ]
    }
   ],
   "source": [
    "#QUESTION 4a\n",
    "def calculate_mean(nums):\n",
    "    return sum(nums) / len(nums)\n",
    "\n",
    "\n",
    "print(calculate_mean([2, 4, 6, 8]))  \n"
   ]
  },
  {
   "cell_type": "code",
   "execution_count": 24,
   "metadata": {},
   "outputs": [
    {
     "name": "stdout",
     "output_type": "stream",
     "text": [
      "5.0\n",
      "6\n"
     ]
    }
   ],
   "source": [
    "#QUESTION 4b\n",
    "def calculate_median(nums):\n",
    "    nums.sort()\n",
    "    n = len(nums)\n",
    "    if n % 2 == 0:\n",
    "        return (nums[n // 2 - 1] + nums[n // 2]) / 2\n",
    "    return nums[n // 2]\n",
    "\n",
    "\n",
    "print(calculate_median([ 2, 4, 6, 8]))  \n",
    "print(calculate_median([ 2, 4, 6, 8, 10]))  \n",
    "\n"
   ]
  },
  {
   "cell_type": "code",
   "execution_count": 25,
   "metadata": {},
   "outputs": [
    {
     "name": "stdout",
     "output_type": "stream",
     "text": [
      "6\n"
     ]
    }
   ],
   "source": [
    "# QUESTION 4d\n",
    "def calculate_range(lst):\n",
    "    return max(lst) - min(lst)\n",
    "\n",
    "\n",
    "print(calculate_range([2, 4, 6, 8]))  \n",
    "\n",
    "\n"
   ]
  },
  {
   "cell_type": "code",
   "execution_count": 26,
   "metadata": {},
   "outputs": [
    {
     "name": "stdout",
     "output_type": "stream",
     "text": [
      "5.0\n"
     ]
    }
   ],
   "source": [
    "def calculate_variance(lst):\n",
    "    mean = calculate_mean(lst)\n",
    "    total = 0\n",
    "    for num in lst:\n",
    "        total += (num - mean) ** 2\n",
    "    return total / len(lst)\n",
    "\n",
    "print(calculate_variance([ 2, 4, 6, 8]))  \n"
   ]
  },
  {
   "cell_type": "code",
   "execution_count": 27,
   "metadata": {},
   "outputs": [
    {
     "name": "stdout",
     "output_type": "stream",
     "text": [
      "2.23606797749979\n"
     ]
    }
   ],
   "source": [
    "# QUESTION 4e\n",
    "def calculate_std(num):\n",
    "    variance = calculate_variance(num)\n",
    "    return variance ** 0.5\n",
    "\n",
    "print(calculate_std([2, 4, 6, 8]))  \n"
   ]
  },
  {
   "cell_type": "markdown",
   "metadata": {},
   "source": [
    "### LEVEL 3"
   ]
  },
  {
   "cell_type": "code",
   "execution_count": 28,
   "metadata": {},
   "outputs": [
    {
     "name": "stdout",
     "output_type": "stream",
     "text": [
      "True\n",
      "False\n"
     ]
    }
   ],
   "source": [
    "#QUESTION1\n",
    "def is_prime(num):\n",
    "    if num <= 1:\n",
    "        return False\n",
    "    for i in range(2, num):\n",
    "        if num % i == 0:\n",
    "            return False\n",
    "    return True\n",
    "\n",
    "\n",
    "print(is_prime(3))  \n",
    "print(is_prime(10)) \n"
   ]
  },
  {
   "cell_type": "code",
   "execution_count": 29,
   "metadata": {},
   "outputs": [
    {
     "name": "stdout",
     "output_type": "stream",
     "text": [
      "True\n",
      "False\n"
     ]
    }
   ],
   "source": [
    "# QUESTION 2\n",
    "def are_items_unique(num):\n",
    "    return len(num) == len(set(num))\n",
    "\n",
    "\n",
    "print(are_items_unique([ 2, 4, 6]))  \n",
    "print(are_items_unique([ 2, 2, 4, 6])) \n"
   ]
  },
  {
   "cell_type": "code",
   "execution_count": 31,
   "metadata": {},
   "outputs": [
    {
     "name": "stdout",
     "output_type": "stream",
     "text": [
      "True\n",
      "False\n"
     ]
    }
   ],
   "source": [
    "# QUESTION 3\n",
    "def are_items_same_type(num):\n",
    "    first_type = type(num[0])\n",
    "    for item in num:\n",
    "        if type(item) != first_type:\n",
    "            return False\n",
    "    return True\n",
    "\n",
    "\n",
    "print(are_items_same_type([2, 4, 6, ]))    \n",
    "print(are_items_same_type(['2', 4, 6, ]))   \n"
   ]
  },
  {
   "cell_type": "code",
   "execution_count": 33,
   "metadata": {},
   "outputs": [
    {
     "name": "stdout",
     "output_type": "stream",
     "text": [
      "True\n",
      "False\n"
     ]
    }
   ],
   "source": [
    "#QUESTION 4\n",
    "def is_valid_variable(var):\n",
    "    return var.isidentifier()\n",
    "\n",
    "print(is_valid_variable(\"my_nums\"))  \n",
    "print(is_valid_variable(\"2nums\"))    \n"
   ]
  },
  {
   "cell_type": "markdown",
   "metadata": {},
   "source": [
    "### LIST COMPREHENSION EXERCISES"
   ]
  },
  {
   "cell_type": "code",
   "execution_count": 34,
   "metadata": {},
   "outputs": [
    {
     "name": "stdout",
     "output_type": "stream",
     "text": [
      "[-4, -3, -2, -1, 0]\n"
     ]
    }
   ],
   "source": [
    "#QUESTION 1\n",
    "numbers = [-4, -3, -2, -1, 0, 2, 4, 6]\n",
    "negative_and_zero = [num for num in numbers if num <= 0]\n",
    "\n",
    "print(negative_and_zero)\n"
   ]
  },
  {
   "cell_type": "code",
   "execution_count": 35,
   "metadata": {},
   "outputs": [
    {
     "name": "stdout",
     "output_type": "stream",
     "text": [
      "[1, 2, 3, 4, 5, 6, 7, 8, 9]\n"
     ]
    }
   ],
   "source": [
    "# QUESTION 2\n",
    "list_of_lists = [[[1, 2, 3]], [[4, 5, 6]], [[7, 8, 9]]]\n",
    "flattened_list = [num for sublist1 in list_of_lists for sublist2 in sublist1 for num in sublist2]\n",
    "\n",
    "print(flattened_list)\n"
   ]
  },
  {
   "cell_type": "code",
   "execution_count": 36,
   "metadata": {},
   "outputs": [
    {
     "name": "stdout",
     "output_type": "stream",
     "text": [
      "[(0, 1, 0, 0, 0, 0, 0), (1, 1, 1, 1, 1, 1, 1), (2, 1, 2, 4, 8, 16, 32), (3, 1, 3, 9, 27, 81, 243), (4, 1, 4, 16, 64, 256, 1024), (5, 1, 5, 25, 125, 625, 3125), (6, 1, 6, 36, 216, 1296, 7776), (7, 1, 7, 49, 343, 2401, 16807), (8, 1, 8, 64, 512, 4096, 32768), (9, 1, 9, 81, 729, 6561, 59049), (10, 1, 10, 100, 1000, 10000, 100000)]\n"
     ]
    }
   ],
   "source": [
    "# QUESTION 3\n",
    "tuples_list = [(x, 1, x, x**2, x**3, x**4, x**5) for x in range(11)]\n",
    "\n",
    "print(tuples_list)\n"
   ]
  },
  {
   "cell_type": "code",
   "execution_count": 37,
   "metadata": {},
   "outputs": [
    {
     "name": "stdout",
     "output_type": "stream",
     "text": [
      "[['FINLAND', 'FIN', 'HELSINKI'], ['SWEDEN', 'SWE', 'STOCKHOLM'], ['NORWAY', 'NOR', 'OSLO']]\n"
     ]
    }
   ],
   "source": [
    "# QUESTION 4\n",
    "countries = [[('Finland', 'Helsinki')], [('Sweden', 'Stockholm')], [('Norway', 'Oslo')]]\n",
    "flattened_countries = [[country.upper(), country[:3].upper(), city.upper()] \n",
    "                       for sublist in countries for country, city in sublist]\n",
    "print(flattened_countries)\n"
   ]
  },
  {
   "cell_type": "code",
   "execution_count": 38,
   "metadata": {},
   "outputs": [
    {
     "name": "stdout",
     "output_type": "stream",
     "text": [
      "[{'country': 'FINLAND', 'city': 'HELSINKI'}, {'country': 'SWEDEN', 'city': 'STOCKHOLM'}, {'country': 'NORWAY', 'city': 'OSLO'}]\n"
     ]
    }
   ],
   "source": [
    "#QUESTION 5\n",
    "countries = [[('Finland', 'Helsinki')], [('Sweden', 'Stockholm')], [('Norway', 'Oslo')]]\n",
    "countries_dicts = [{'country': country.upper(), 'city': city.upper()} \n",
    "                   for sublist in countries for country, city in sublist]\n",
    "print(countries_dicts)\n"
   ]
  },
  {
   "cell_type": "code",
   "execution_count": 39,
   "metadata": {},
   "outputs": [
    {
     "name": "stdout",
     "output_type": "stream",
     "text": [
      "['Asabeneh Yetayeh', 'David Smith', 'Donald Trump', 'Bill Gates']\n"
     ]
    }
   ],
   "source": [
    "# QUESTION 6\n",
    "names = [[('Asabeneh', 'Yetayeh')], [('David', 'Smith')], [('Donald', 'Trump')], [('Bill', 'Gates')]]\n",
    "concatenated_names = [' '.join(name) for sublist in names for name in sublist]\n",
    "\n",
    "print(concatenated_names)\n"
   ]
  },
  {
   "cell_type": "code",
   "execution_count": null,
   "metadata": {},
   "outputs": [],
   "source": []
  }
 ],
 "metadata": {
  "kernelspec": {
   "display_name": "base",
   "language": "python",
   "name": "python3"
  },
  "language_info": {
   "codemirror_mode": {
    "name": "ipython",
    "version": 3
   },
   "file_extension": ".py",
   "mimetype": "text/x-python",
   "name": "python",
   "nbconvert_exporter": "python",
   "pygments_lexer": "ipython3",
   "version": "3.11.5"
  }
 },
 "nbformat": 4,
 "nbformat_minor": 2
}
